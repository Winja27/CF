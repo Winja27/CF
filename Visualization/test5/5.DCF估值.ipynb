{
 "cells": [
  {
   "cell_type": "markdown",
   "metadata": {},
   "source": [
    "Discounted Cash Flow（DCF）是一种估值方法，通过将未来现金流的预测值折现到现在，计算公司的净现值（Net Present Value，NPV）。这个方法假设未来的现金流比现在的现金流更不值钱，因此对未来的现金流进行折现。DCF的基本公式如下：\n",
    "\n",
    "$DCF = \\frac{CF_1}{(1+r)^1} + \\frac{CF_2}{(1+r)^2} + \\ldots + \\frac{CF_n}{(1+r)^n} + \\frac{TV}{(1+r)^n}$\n",
    "\n",
    "其中：\n",
    "- $CF_i$ 是每一期的自由现金流（Free Cash Flow）。\n",
    "- $r$ 是贴现率（Discount Rate）。\n",
    "- $n$ 是预测期的最后一期。\n",
    "- $TV$ 是终端值（Terminal Value），表示预测期之后的所有未来现金流的总和。\n",
    "\n",
    "实现步骤如下：\n",
    "\n",
    "1. **确定预测期：** 确定你要对公司进行估值的预测期。通常，这个期限在5到10年之间。\n",
    "\n",
    "2. **预测自由现金流（FCF）：** 估计每一期的自由现金流。自由现金流是指公司在支付运营成本和资本支出之后剩余的现金。\n",
    "\n",
    "3. **确定贴现率：** 贴现率代表了投资的风险，通常使用加权平均资本成本（Weighted Average Cost of Capital，WACC）。\n",
    "\n",
    "4. **计算终端值：** 预测期结束后，估计未来现金流的总和，即终端值。常用的方法有使用常数增长率（通常设为2-3%）的永续增长模型或者使用市净率法。\n",
    "\n",
    "5. **折现现金流：** 将每期的自由现金流和终端值折现到现在。这涉及到使用贴现率。\n",
    "\n",
    "6. **计算公司价值：** 将折现的现金流相加，得到公司的净现值。\n",
    "\n",
    "7. **计算每股价值：** 如果是对股票进行估值，将净现值除以股票的数量。\n",
    "\n",
    "实现DCF模型的代码可以使用Python的NumPy和Pandas库，具体步骤如下：\n",
    "\n"
   ]
  },
  {
   "cell_type": "code",
   "execution_count": 1,
   "metadata": {},
   "outputs": [
    {
     "name": "stdout",
     "output_type": "stream",
     "text": [
      "公司价值为: 3722.168753997181\n"
     ]
    }
   ],
   "source": [
    "import numpy as np\n",
    "import pandas as pd\n",
    "\n",
    "def calculate_dcf(cash_flows, discount_rate):\n",
    "    # 计算每期的现金流的折现值\n",
    "    present_values = [cf / (1 + discount_rate) ** i for i, cf in enumerate(cash_flows, start=1)]\n",
    "\n",
    "    # 计算终端值的折现值\n",
    "    terminal_value = cash_flows[-1] / discount_rate\n",
    "\n",
    "    # 计算公司价值\n",
    "    company_value = sum(present_values) + terminal_value\n",
    "\n",
    "    return company_value\n",
    "\n",
    "# 示例数据\n",
    "cash_flows = [100, 150, 200, 250, 300]\n",
    "discount_rate = 0.1\n",
    "\n",
    "# 计算DCF\n",
    "result = calculate_dcf(cash_flows, discount_rate)\n",
    "print(f\"公司价值为: {result}\")\n"
   ]
  }
 ],
 "metadata": {
  "kernelspec": {
   "display_name": "Python 3",
   "language": "python",
   "name": "python3"
  },
  "language_info": {
   "codemirror_mode": {
    "name": "ipython",
    "version": 3
   },
   "file_extension": ".py",
   "mimetype": "text/x-python",
   "name": "python",
   "nbconvert_exporter": "python",
   "pygments_lexer": "ipython3",
   "version": "3.10.9"
  }
 },
 "nbformat": 4,
 "nbformat_minor": 2
}
