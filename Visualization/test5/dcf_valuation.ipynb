{
 "cells": [
  {
   "cell_type": "markdown",
   "metadata": {},
   "source": [
    "### 目标：通过Python建模对股票进行DCF (discounted cash flow) 估值\n",
    "1. 通过JoinQuant提供的API读取财务报表相关项目的数值\n",
    "2. 选取合适的收入增长率，贴现率，永续增长率等输入参数\n",
    "3. 建立DCF模型估计公司价值，并输出估计股价\n",
    "\n",
    "聚宽网在线研究网址：https://www.joinquant.com/\n",
    "\n",
    "API文档：https://www.joinquant.com/help/api/help?name=api"
   ]
  },
  {
   "cell_type": "code",
   "execution_count": 1,
   "metadata": {},
   "outputs": [],
   "source": [
    "import numpy as np\n",
    "import pandas as pd\n",
    "import matplotlib.pyplot as plt\n",
    "\n",
    "# 通过JoitQuant聚宽网提供的API导入相关财务报表的数据\n",
    "from jqdata import *"
   ]
  },
  {
   "cell_type": "markdown",
   "metadata": {},
   "source": [
    "确定查询年份和股票代码，这里我们将基准日期设为上一期财务报表的年份，2019年"
   ]
  },
  {
   "cell_type": "code",
   "execution_count": 6,
   "metadata": {},
   "outputs": [],
   "source": [
    "DATE = 2019\n",
    "CODE = \"600519.XSHG\" # 贵州茅台"
   ]
  },
  {
   "cell_type": "code",
   "execution_count": 9,
   "metadata": {},
   "outputs": [
    {
     "data": {
      "text/html": [
       "<div>\n",
       "<style scoped>\n",
       "    .dataframe tbody tr th:only-of-type {\n",
       "        vertical-align: middle;\n",
       "    }\n",
       "\n",
       "    .dataframe tbody tr th {\n",
       "        vertical-align: top;\n",
       "    }\n",
       "\n",
       "    .dataframe thead th {\n",
       "        text-align: right;\n",
       "    }\n",
       "</style>\n",
       "<table border=\"1\" class=\"dataframe\">\n",
       "  <thead>\n",
       "    <tr style=\"text-align: right;\">\n",
       "      <th></th>\n",
       "      <th>fix_intan_other_asset_acqui_cash</th>\n",
       "      <th>start_date</th>\n",
       "      <th>end_date</th>\n",
       "      <th>fixed_assets_depreciation</th>\n",
       "      <th>intangible_assets_amortization</th>\n",
       "      <th>defferred_expense_amortization</th>\n",
       "    </tr>\n",
       "  </thead>\n",
       "  <tbody>\n",
       "    <tr>\n",
       "      <th>0</th>\n",
       "      <td>3.148865e+09</td>\n",
       "      <td>2019-01-01</td>\n",
       "      <td>2019-12-31</td>\n",
       "      <td>1.149885e+09</td>\n",
       "      <td>83262106.36</td>\n",
       "      <td>10331490.16</td>\n",
       "    </tr>\n",
       "  </tbody>\n",
       "</table>\n",
       "</div>"
      ],
      "text/plain": [
       "   fix_intan_other_asset_acqui_cash              ...               defferred_expense_amortization\n",
       "0                      3.148865e+09              ...                                  10331490.16\n",
       "\n",
       "[1 rows x 6 columns]"
      ]
     },
     "execution_count": 9,
     "metadata": {},
     "output_type": "execute_result"
    }
   ],
   "source": [
    "# STK_CASHFLOW_STATEMENT: 合并现金流量表\n",
    "# fix_intan_other_asset_acqui_cash: 构建固定资产、无形资产和其他长期资产支付的现金\n",
    "# fixed_assets_depreciation：固定资产折旧\n",
    "# intangible_assets_amortization：无形资产摊销\n",
    "# defferred_expense_amortization：长期待摊费用摊销\n",
    "\n",
    "q = query(finance.STK_CASHFLOW_STATEMENT.fix_intan_other_asset_acqui_cash,\n",
    "          finance.STK_CASHFLOW_STATEMENT.start_date,\n",
    "          finance.STK_CASHFLOW_STATEMENT.end_date,\n",
    "          finance.STK_CASHFLOW_STATEMENT.fixed_assets_depreciation,\n",
    "          finance.STK_CASHFLOW_STATEMENT.intangible_assets_amortization,\n",
    "          finance.STK_CASHFLOW_STATEMENT.defferred_expense_amortization\n",
    "          ).filter(\n",
    "            finance.STK_CASHFLOW_STATEMENT.code==CODE,\n",
    "            # 查询2019-01-01~2019-12-31时段的合并现金流量表\n",
    "            finance.STK_CASHFLOW_STATEMENT.end_date==str(DATE)+\"-12-31\" \n",
    "            )\n",
    "cashflow = finance.run_query(q) \n",
    "cashflow"
   ]
  },
  {
   "cell_type": "code",
   "execution_count": 10,
   "metadata": {
    "scrolled": false
   },
   "outputs": [
    {
     "data": {
      "text/html": [
       "<div>\n",
       "<style scoped>\n",
       "    .dataframe tbody tr th:only-of-type {\n",
       "        vertical-align: middle;\n",
       "    }\n",
       "\n",
       "    .dataframe tbody tr th {\n",
       "        vertical-align: top;\n",
       "    }\n",
       "\n",
       "    .dataframe thead th {\n",
       "        text-align: right;\n",
       "    }\n",
       "</style>\n",
       "<table border=\"1\" class=\"dataframe\">\n",
       "  <thead>\n",
       "    <tr style=\"text-align: right;\">\n",
       "      <th></th>\n",
       "      <th>income_tax_expense</th>\n",
       "      <th>total_profit</th>\n",
       "      <th>financial_expense</th>\n",
       "    </tr>\n",
       "  </thead>\n",
       "  <tbody>\n",
       "    <tr>\n",
       "      <th>0</th>\n",
       "      <td>1.481255e+10</td>\n",
       "      <td>5.878255e+10</td>\n",
       "      <td>7458015.66</td>\n",
       "    </tr>\n",
       "  </tbody>\n",
       "</table>\n",
       "</div>"
      ],
      "text/plain": [
       "   income_tax_expense  total_profit  financial_expense\n",
       "0        1.481255e+10  5.878255e+10         7458015.66"
      ]
     },
     "execution_count": 10,
     "metadata": {},
     "output_type": "execute_result"
    }
   ],
   "source": [
    "# income: 利润表\n",
    "# income_tax_expense: 所得税费用\n",
    "# financial_expense: 财务费用\n",
    "\n",
    "q = query(income.income_tax_expense,\n",
    "          income.total_profit,\n",
    "          income.financial_expense\n",
    "          ).filter(\n",
    "            income.code==CODE,\n",
    "            )\n",
    "incstat = get_fundamentals(q, statDate='2019') # 查询2019年年报\n",
    "incstat"
   ]
  },
  {
   "cell_type": "code",
   "execution_count": 11,
   "metadata": {
    "scrolled": true
   },
   "outputs": [
    {
     "data": {
      "text/html": [
       "<div>\n",
       "<style scoped>\n",
       "    .dataframe tbody tr th:only-of-type {\n",
       "        vertical-align: middle;\n",
       "    }\n",
       "\n",
       "    .dataframe tbody tr th {\n",
       "        vertical-align: top;\n",
       "    }\n",
       "\n",
       "    .dataframe thead th {\n",
       "        text-align: right;\n",
       "    }\n",
       "</style>\n",
       "<table border=\"1\" class=\"dataframe\">\n",
       "  <thead>\n",
       "    <tr style=\"text-align: right;\">\n",
       "      <th></th>\n",
       "      <th>total_assets</th>\n",
       "      <th>total_non_current_assets</th>\n",
       "    </tr>\n",
       "  </thead>\n",
       "  <tbody>\n",
       "    <tr>\n",
       "      <th>0</th>\n",
       "      <td>1.830424e+11</td>\n",
       "      <td>2.401790e+10</td>\n",
       "    </tr>\n",
       "  </tbody>\n",
       "</table>\n",
       "</div>"
      ],
      "text/plain": [
       "   total_assets  total_non_current_assets\n",
       "0  1.830424e+11              2.401790e+10"
      ]
     },
     "execution_count": 11,
     "metadata": {},
     "output_type": "execute_result"
    }
   ],
   "source": [
    "# balance: 资产负债表\n",
    "# total_assets: 总资产\n",
    "# total_non_current_assets: 非流动资产总计\n",
    "\n",
    "q = query(balance.total_assets,\n",
    "          balance.total_non_current_assets\n",
    "          ).filter(\n",
    "            balance.code==CODE,\n",
    "            )\n",
    "bs1 = get_fundamentals(q, statDate=str(DATE)) # 基准年度数据 （2019）\n",
    "bs2 = get_fundamentals(q, statDate=str(DATE-1)) # 上一年资产负债表数据 (2018)\n",
    "bs1"
   ]
  },
  {
   "cell_type": "code",
   "execution_count": 12,
   "metadata": {},
   "outputs": [
    {
     "data": {
      "text/plain": [
       "21162636701.51001"
      ]
     },
     "execution_count": 12,
     "metadata": {},
     "output_type": "execute_result"
    }
   ],
   "source": [
    "# 计算 CWC (annual change in net working capital): 净营运资本增加值\n",
    "\n",
    "cwc = (bs1['total_assets'][0]-bs1['total_non_current_assets'][0]) - \\\n",
    "        (bs2['total_assets'][0]-bs2['total_non_current_assets'][0])\n",
    "cwc"
   ]
  },
  {
   "cell_type": "code",
   "execution_count": 20,
   "metadata": {},
   "outputs": [],
   "source": [
    "# 接下来我们需要假设一些估算所必须的比率，对最终我们得到相对准确的公司估值\n",
    "# 非常重要。这里粗略使用一些其他报告里采取的估计值\n",
    "\n",
    "earnings_growth_rate = 0.1      # 收入增长率\n",
    "discount_rate = 0.08           # 贴现率\n",
    "cap_ex_growth_rate = 0.1      # 资本支出增长率\n",
    "perpetual_growth_rate = 0.02 # 永续增长率"
   ]
  },
  {
   "cell_type": "code",
   "execution_count": 14,
   "metadata": {},
   "outputs": [
    {
     "data": {
      "text/plain": [
       "(58790009813.380005,\n",
       " 0.2519889074598584,\n",
       " 1243478446.87,\n",
       " 21162636701.51001,\n",
       " 3148864661.38)"
      ]
     },
     "execution_count": 14,
     "metadata": {},
     "output_type": "execute_result"
    }
   ],
   "source": [
    "# 计算 EBIT: 息税前利润，这里用(总利润+财务费用)作为近似\n",
    "# tax_rate: 税率\n",
    "# non_cash_charges: 折旧和摊销的总和\n",
    "# cap_ex: 资本化支出\n",
    "\n",
    "ebit = incstat['total_profit'][0]+incstat['financial_expense'][0]\n",
    "tax_rate = incstat['income_tax_expense'][0]/  \\\n",
    "            incstat['total_profit'][0]\n",
    "non_cash_charges = cashflow['fixed_assets_depreciation'][0]+ \\\n",
    "            cashflow['intangible_assets_amortization'][0]+cashflow['defferred_expense_amortization'][0]\n",
    "cap_ex = cashflow['fix_intan_other_asset_acqui_cash'][0]\n",
    "\n",
    "(ebit, tax_rate, non_cash_charges, cwc, cap_ex)"
   ]
  },
  {
   "cell_type": "code",
   "execution_count": 15,
   "metadata": {},
   "outputs": [],
   "source": [
    "def ulFCF(ebit, tax_rate, non_cash_charges, cwc, cap_ex):\n",
    "    \n",
    "    # 返回无杠杆自由现金流 (unleveraged future cash flow)\n",
    "    return ebit * (1-tax_rate) + non_cash_charges + cwc - cap_ex"
   ]
  },
  {
   "cell_type": "code",
   "execution_count": 30,
   "metadata": {},
   "outputs": [],
   "source": [
    "# year为基准年份，period表示还可以earning_growth_rate增长的年份，之后为永续增长期\n",
    "\n",
    "def enterprise_value(year, period, discount_rate, earnings_growth_rate, cap_ex_growth_rate, perpetual_growth_rate,\n",
    "                    cwc, ebit, tax_rate, non_cash_charges, cap_ex):    \n",
    "    flows = []\n",
    "    dfcf = ulFCF(ebit, tax_rate, non_cash_charges, cwc, cap_ex)\n",
    "    output = pd.DataFrame([dfcf, ebit, non_cash_charges, cwc, cap_ex], index = [\"DFCF\", \"EBIT\", \"D&A\", \"CWC\", \"CAP_EX\"])\n",
    "    index = [\"DFCF\", \"EBIT\", \"D&A\", \"CWC\", \"CAP_EX\"]\n",
    "    columns = [year]\n",
    "    for yr in range(1, 1+period):    \n",
    "        ebit = ebit * (1 + (yr * earnings_growth_rate))\n",
    "        non_cash_charges = non_cash_charges * (1 + (yr * earnings_growth_rate))\n",
    "        cwc = cwc * 0.7\n",
    "        cap_ex = cap_ex * (1 + (yr * cap_ex_growth_rate))         \n",
    "        \n",
    "        flow = ulFCF(ebit, tax_rate, non_cash_charges, cwc, cap_ex)\n",
    "        # print(flow, ebit, non_cash_charges, cwc, cap_ex)\n",
    "        \n",
    "        PV_flow = flow/((1 + discount_rate)**yr)\n",
    "        flows.append(PV_flow)\n",
    "        year += 1\n",
    "        columns.append(year)\n",
    "        pdSeries = pd.Series([PV_flow, ebit, non_cash_charges, cwc, cap_ex], index=index)\n",
    "        output = pd.concat([output, pdSeries], axis=1)\n",
    "        \n",
    "    output.columns = columns\n",
    "    \n",
    "    # DATE ~ DATE+period 期间的折现值\n",
    "    NPV_FCF = sum(flows)\n",
    "    \n",
    "    # 计算永续期的折现值\n",
    "    final_cashflow = flows[-1] * (1 + perpetual_growth_rate)\n",
    "    TV = final_cashflow/(discount_rate - perpetual_growth_rate)\n",
    "    NPV_TV = TV/(1+discount_rate)**(1+period)\n",
    "    \n",
    "    return((NPV_TV+NPV_FCF, output))"
   ]
  },
  {
   "cell_type": "code",
   "execution_count": 65,
   "metadata": {},
   "outputs": [],
   "source": [
    "#\n",
    "\n",
    "def enterprise_value(year, period, discount_rate, earnings_growth_rate, cap_ex_growth_rate, perpetual_growth_rate,\n",
    "                    cwc, ebit, tax_rate, non_cash_charges, cap_ex):    \n",
    "    flows = []\n",
    "    output = pd.DataFrame([NaN, ebit, non_cash_charges, cwc, cap_ex], index = [\"DFCF\", \"EBIT\", \"D&A\", \"CWC\", \"CAP_EX\"])\n",
    "    index = [\"DFCF\", \"EBIT\", \"D&A\", \"CWC\", \"CAP_EX\"]\n",
    "    columns = [year]\n",
    "    for yr in range(1, 1+period):    \n",
    "\n",
    "        # increment each value by growth rate\n",
    "        ebit = ebit * (1 + (earnings_growth_rate))\n",
    "        non_cash_charges = non_cash_charges * (1 + (earnings_growth_rate))\n",
    "        cwc = cwc * 0.7\n",
    "        cap_ex = cap_ex * (1 + (cap_ex_growth_rate))         \n",
    "\n",
    "        # discount by WACC\n",
    "        flow = ulFCF(ebit, tax_rate, non_cash_charges, cwc, cap_ex)\n",
    "        PV_flow = flow/((1+discount_rate)**yr)\n",
    "        flows.append(PV_flow)\n",
    "        year += 1\n",
    "        columns.append(year)\n",
    "        pdSeries = pd.Series([PV_flow, ebit, non_cash_charges, cwc, cap_ex], index=index)\n",
    "        output = pd.concat([output, pdSeries], axis=1)\n",
    "        print(str(2019 + yr) + '  ',\n",
    "              '%.2E' % PV_flow + ' | ',\n",
    "              '%.2E' % ebit + ' | ',\n",
    "              '%.2E' % non_cash_charges + ' | ',\n",
    "              '%.2E' % cwc + ' | ',\n",
    "              '%.2E' % cap_ex + ' | ')\n",
    "    print(columns)\n",
    "\n",
    "    output.columns = columns\n",
    "    print(output)\n",
    "    NPV_FCF = sum(flows)\n",
    "    \n",
    "    # now calculate terminal value using perpetual growth rate\n",
    "    final_cashflow = flows[-1] * (1 + perpetual_growth_rate)\n",
    "    TV = final_cashflow/(discount_rate - perpetual_growth_rate)\n",
    "    NPV_TV = TV/(1+discount_rate)**(1+period)\n",
    "    \n",
    "    return((NPV_TV+NPV_FCF, output))"
   ]
  },
  {
   "cell_type": "code",
   "execution_count": 32,
   "metadata": {
    "scrolled": true
   },
   "outputs": [
    {
     "data": {
      "text/plain": [
       "63232829957.952034"
      ]
     },
     "execution_count": 32,
     "metadata": {},
     "output_type": "execute_result"
    }
   ],
   "source": [
    "ulFCF(ebit, tax_rate, non_cash_charges, cwc, cap_ex)"
   ]
  },
  {
   "cell_type": "code",
   "execution_count": 56,
   "metadata": {
    "scrolled": false
   },
   "outputs": [
    {
     "data": {
      "text/html": [
       "<div>\n",
       "<style scoped>\n",
       "    .dataframe tbody tr th:only-of-type {\n",
       "        vertical-align: middle;\n",
       "    }\n",
       "\n",
       "    .dataframe tbody tr th {\n",
       "        vertical-align: top;\n",
       "    }\n",
       "\n",
       "    .dataframe thead th {\n",
       "        text-align: right;\n",
       "    }\n",
       "</style>\n",
       "<table border=\"1\" class=\"dataframe\">\n",
       "  <thead>\n",
       "    <tr style=\"text-align: right;\">\n",
       "      <th></th>\n",
       "      <th>2019</th>\n",
       "      <th>2020</th>\n",
       "      <th>2021</th>\n",
       "      <th>2022</th>\n",
       "      <th>2023</th>\n",
       "      <th>2024</th>\n",
       "    </tr>\n",
       "  </thead>\n",
       "  <tbody>\n",
       "    <tr>\n",
       "      <th>DFCF</th>\n",
       "      <td>6.323283e+10</td>\n",
       "      <td>5.656579e+10</td>\n",
       "      <td>5.650064e+10</td>\n",
       "      <td>6.307095e+10</td>\n",
       "      <td>7.802385e+10</td>\n",
       "      <td>1.055999e+11</td>\n",
       "    </tr>\n",
       "    <tr>\n",
       "      <th>EBIT</th>\n",
       "      <td>5.879001e+10</td>\n",
       "      <td>6.466901e+10</td>\n",
       "      <td>7.760281e+10</td>\n",
       "      <td>1.008837e+11</td>\n",
       "      <td>1.412371e+11</td>\n",
       "      <td>2.118557e+11</td>\n",
       "    </tr>\n",
       "    <tr>\n",
       "      <th>D&amp;A</th>\n",
       "      <td>1.243478e+09</td>\n",
       "      <td>1.367826e+09</td>\n",
       "      <td>1.641392e+09</td>\n",
       "      <td>2.133809e+09</td>\n",
       "      <td>2.987333e+09</td>\n",
       "      <td>4.480999e+09</td>\n",
       "    </tr>\n",
       "    <tr>\n",
       "      <th>CWC</th>\n",
       "      <td>2.116264e+10</td>\n",
       "      <td>1.481385e+10</td>\n",
       "      <td>1.036969e+10</td>\n",
       "      <td>7.258784e+09</td>\n",
       "      <td>5.081149e+09</td>\n",
       "      <td>3.556804e+09</td>\n",
       "    </tr>\n",
       "    <tr>\n",
       "      <th>CAP_EX</th>\n",
       "      <td>3.148865e+09</td>\n",
       "      <td>3.463751e+09</td>\n",
       "      <td>4.156501e+09</td>\n",
       "      <td>5.403452e+09</td>\n",
       "      <td>7.564832e+09</td>\n",
       "      <td>1.134725e+10</td>\n",
       "    </tr>\n",
       "  </tbody>\n",
       "</table>\n",
       "</div>"
      ],
      "text/plain": [
       "                2019          2020      ...               2023          2024\n",
       "DFCF    6.323283e+10  5.656579e+10      ...       7.802385e+10  1.055999e+11\n",
       "EBIT    5.879001e+10  6.466901e+10      ...       1.412371e+11  2.118557e+11\n",
       "D&A     1.243478e+09  1.367826e+09      ...       2.987333e+09  4.480999e+09\n",
       "CWC     2.116264e+10  1.481385e+10      ...       5.081149e+09  3.556804e+09\n",
       "CAP_EX  3.148865e+09  3.463751e+09      ...       7.564832e+09  1.134725e+10\n",
       "\n",
       "[5 rows x 6 columns]"
      ]
     },
     "execution_count": 56,
     "metadata": {},
     "output_type": "execute_result"
    }
   ],
   "source": [
    "enterprise_value(DATE, 5, discount_rate, earnings_growth_rate, cap_ex_growth_rate, perpetual_growth_rate,\n",
    "                    cwc, ebit, tax_rate, non_cash_charges, cap_ex)[1]"
   ]
  },
  {
   "cell_type": "code",
   "execution_count": 33,
   "metadata": {
    "scrolled": true
   },
   "outputs": [
    {
     "data": {
      "text/plain": [
       "(1256197812.0, 1486082030000.0)"
      ]
     },
     "execution_count": 33,
     "metadata": {},
     "output_type": "execute_result"
    }
   ],
   "source": [
    "# valuaion: 公司财务指标表\n",
    "q = query(valuation.capitalization,\n",
    "          valuation.market_cap\n",
    "          ).filter(\n",
    "            valuation.code==CODE,\n",
    "            )\n",
    "# capitalization: 总股本(万股)\n",
    "capitalization = get_fundamentals(q, statDate=str(DATE)).iloc[0,0] * 10000\n",
    "# market_cap: 总市值(亿元)\n",
    "market_cap = get_fundamentals(q, statDate=str(DATE)).iloc[0,1] * 100000000\n",
    "(capitalization, market_cap)"
   ]
  },
  {
   "cell_type": "code",
   "execution_count": 34,
   "metadata": {
    "scrolled": true
   },
   "outputs": [
    {
     "data": {
      "text/plain": [
       "(41165991813.85, 13251817237.85)"
      ]
     },
     "execution_count": 34,
     "metadata": {},
     "output_type": "execute_result"
    }
   ],
   "source": [
    "q = query(balance.total_liability,\n",
    "          balance.cash_equivalents\n",
    "          ).filter(\n",
    "            balance.code==CODE,\n",
    "            )\n",
    "# total_liability: 总负债\n",
    "total_liability = get_fundamentals(q, statDate=str(DATE)).iloc[0,0]\n",
    "# cash_equivalents: 现金及现金等价物\n",
    "cash_equivalents = get_fundamentals(q, statDate=str(DATE)).iloc[0,1]\n",
    "(total_liability, cash_equivalents)"
   ]
  },
  {
   "cell_type": "code",
   "execution_count": 45,
   "metadata": {},
   "outputs": [],
   "source": [
    "def equity_value(enterprise_val):\n",
    "    equity_val = enterprise_val - total_liability + cash_equivalents \n",
    "    share_price = equity_val/capitalization\n",
    "    \n",
    "    # 返回公司股价的估计值\n",
    "    return share_price"
   ]
  },
  {
   "cell_type": "code",
   "execution_count": 54,
   "metadata": {},
   "outputs": [],
   "source": [
    "enterprise_val = enterprise_value(DATE, 5, discount_rate, earnings_growth_rate, cap_ex_growth_rate, perpetual_growth_rate,\n",
    "                    cwc, ebit, tax_rate, non_cash_charges, cap_ex)"
   ]
  },
  {
   "cell_type": "code",
   "execution_count": 55,
   "metadata": {},
   "outputs": [
    {
     "data": {
      "text/plain": [
       "1164.7264668376697"
      ]
     },
     "execution_count": 55,
     "metadata": {},
     "output_type": "execute_result"
    }
   ],
   "source": [
    "# 估计的股价， 600319贵州茅台，2019年\n",
    "equity_value(enterprise_val[0])"
   ]
  }
 ],
 "metadata": {
  "kernelspec": {
   "display_name": "Python 3",
   "language": "python",
   "name": "python3"
  },
  "language_info": {
   "codemirror_mode": {
    "name": "ipython",
    "version": 3
   },
   "file_extension": ".py",
   "mimetype": "text/x-python",
   "name": "python",
   "nbconvert_exporter": "python",
   "pygments_lexer": "ipython3",
   "version": "3.6.7"
  },
  "toc": {
   "base_numbering": 1,
   "nav_menu": {},
   "number_sections": false,
   "sideBar": true,
   "skip_h1_title": false,
   "title_cell": "MarkDown菜单",
   "title_sidebar": "Contents",
   "toc_cell": false,
   "toc_position": {},
   "toc_section_display": true,
   "toc_window_display": false
  }
 },
 "nbformat": 4,
 "nbformat_minor": 2
}
